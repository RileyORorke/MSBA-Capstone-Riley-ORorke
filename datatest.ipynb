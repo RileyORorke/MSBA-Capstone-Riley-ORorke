{
 "cells": [
  {
   "cell_type": "code",
   "execution_count": null,
   "metadata": {},
   "outputs": [
    {
     "data": {
      "text/plain": [
       "  AssemblyName    NamePostfix  ... MinValue MaxValue\n",
       "0     D0815479  Front Chassis  ...   94.960   95.040\n",
       "1     D0815479  Front Chassis  ...   94.960   95.040\n",
       "2     D0815479  Front Chassis  ...   94.960   95.040\n",
       "3     D0815479  Front Chassis  ...   94.960   95.040\n",
       "4     D0815479  Front Chassis  ...   94.960   95.040\n",
       "5     D0815479  Front Chassis  ...   90.079   90.155\n",
       "6     D0815479  Front Chassis  ...   90.079   90.155\n",
       "7     D0815479  Front Chassis  ...   90.079   90.155\n",
       "8     D0815479  Front Chassis  ...  101.572  101.652\n",
       "9     D0815479  Front Chassis  ...  101.572  101.652\n",
       "\n",
       "[10 rows x 11 columns]\n"
      ]
     },
     "metadata": {},
     "output_type": "display_data"
    }
   ],
   "source": [
    "# Combined Bore Dataset\n",
    "import pandas as pd\n",
    "\n",
    "# Define file path\n",
    "bore_data_path = r\"G:\\College\\University of Montana\\Semester 4\\Capstone\\MSBA-Capstone-Riley-ORorke\\data\\Riley_O'Rorke_CombinedBoreData.csv\"\n",
    "\n",
    "# Load dataset (ensure ResultDataValue2 is loaded as a string)\n",
    "bore_df = pd.read_csv(bore_data_path, dtype={'ResultDataValue2': str})\n",
    "\n",
    "# Select only the relevant columns\n",
    "bore_filtered_df = bore_df[[ \n",
    "    'AssemblyName', 'NamePostfix', 'DepartmentName', 'StationName', \n",
    "    'StationDescription', 'ParameterName3', 'ResultDataValue2', \n",
    "    'ResultEntryTimestamp3', 'ResultDataValue3', 'MinValue', 'MaxValue'\n",
    "]]\n",
    "\n",
    "# Convert timestamp column to datetime format\n",
    "bore_filtered_df['ResultEntryTimestamp3'] = pd.to_datetime(bore_filtered_df['ResultEntryTimestamp3'], errors='coerce')\n",
    "\n",
    "# Ensure ResultDataValue2 remains a string (part numbers)\n",
    "bore_filtered_df['ResultDataValue2'] = bore_filtered_df['ResultDataValue2'].astype(str)\n",
    "\n",
    "# Convert numeric columns to float (handle errors gracefully)\n",
    "bore_filtered_df[['ResultDataValue3', 'MinValue', 'MaxValue']] = bore_filtered_df[\n",
    "    ['ResultDataValue3', 'MinValue', 'MaxValue']\n",
    "].apply(pd.to_numeric, errors='coerce')\n",
    "\n",
    "# Drop rows with missing values in key measurement columns\n",
    "bore_filtered_df.dropna(subset=['ResultDataValue3', 'MinValue', 'MaxValue'], inplace=True)\n",
    "\n",
    "# Save the cleaned dataset (optional)\n",
    "cleaned_bore_data_path = r\"G:\\College\\University of Montana\\Semester 4\\Capstone\\MSBA-Capstone-Riley-ORorke\\data\\Cleaned_BoreData.csv\"\n",
    "bore_filtered_df.to_csv(cleaned_bore_data_path, index=False)\n",
    "\n",
    "# Display first few rows for verification\n",
    "print(bore_filtered_df.head(10))\n"
   ]
  },
  {
   "cell_type": "code",
   "execution_count": null,
   "metadata": {},
   "outputs": [
    {
     "data": {
      "text/plain": [
       "   ToolID  ModelID  StationId  ... ManufacturerID  ModelNumber ManufacturerName\n",
       "0       5        4         82  ...              3          377          Diatest\n",
       "1      14        8        474  ...              6  DS-B5-10103           Dorsey\n",
       "2      15        8        474  ...              6  DS-B5-10103           Dorsey\n",
       "3      16        9        474  ...              6  DS-B5-10104           Dorsey\n",
       "4      17        9        474  ...              6  DS-B5-10104           Dorsey\n",
       "\n",
       "[5 rows x 7 columns]\n"
      ]
     },
     "metadata": {},
     "output_type": "display_data"
    }
   ],
   "source": [
    "# Tools Dataset\n",
    "import pandas as pd\n",
    "\n",
    "# Define file paths\n",
    "tools_data_path = r\"G:\\College\\University of Montana\\Semester 4\\Capstone\\MSBA-Capstone-Riley-ORorke\\data\\Riley_O'Rorke_Tools.csv\"\n",
    "\n",
    "# Load dataset\n",
    "tools_df = pd.read_csv(tools_data_path)\n",
    "\n",
    "# Select only the relevant columns and rename StationID to StationId\n",
    "tools_filtered_df = tools_df[['ToolID', 'ModelID', 'StationID', 'Name', 'ManufacturerID', 'ModelNumber', 'ManufacturerName']]\n",
    "tools_filtered_df = tools_filtered_df.rename(columns={'StationID': 'StationId'})\n",
    "\n",
    "# Save the cleaned dataset (optional)\n",
    "cleaned_tools_data_path = r\"G:\\College\\University of Montana\\Semester 4\\Capstone\\MSBA-Capstone-Riley-ORorke\\data\\Cleaned_Tools.csv\"\n",
    "tools_filtered_df.to_csv(cleaned_tools_data_path, index=False)\n",
    "\n",
    "# Display the first few rows\n",
    "print(tools_filtered_df.head())\n"
   ]
  },
  {
   "cell_type": "code",
   "execution_count": null,
   "metadata": {},
   "outputs": [
    {
     "data": {
      "text/plain": [
       "    AssemblyID WeldReclaim\n",
       "20    D0677972         Yes\n",
       "158   D0682051         Yes\n",
       "254   D0707175         Yes\n",
       "469   D0734371         Yes\n",
       "546   D0747091         Yes\n"
      ]
     },
     "metadata": {},
     "output_type": "display_data"
    }
   ],
   "source": [
    "# Weld Reclaim Dataset\n",
    "import pandas as pd\n",
    "\n",
    "# Define file path\n",
    "weld_reclaim_path = r\"G:\\College\\University of Montana\\Semester 4\\Capstone\\MSBA-Capstone-Riley-ORorke\\data\\Riley_O'Rorke_WeldReclaim.csv\"\n",
    "\n",
    "# Load dataset\n",
    "weld_df = pd.read_csv(weld_reclaim_path)\n",
    "\n",
    "# Filter dataset: Keep only rows where 'Description' matches the required text and 'DataValue' is 'Yes'\n",
    "weld_filtered_df = weld_df[\n",
    "    (weld_df['Description'] == \"Select whether or not the weldment needs to go to weld reclaim for rework.\") &\n",
    "    (weld_df['DataValue'] == \"Yes\")\n",
    "][['AssemblyID', 'DataValue']]\n",
    "\n",
    "# Rename 'DataValue' to 'CoolantConcentration'\n",
    "weld_filtered_df.rename(columns={'DataValue': 'WeldReclaim'}, inplace=True)\n",
    "\n",
    "# Prepend \"D0\" to AssemblyID values\n",
    "weld_filtered_df['AssemblyID'] = \"D0\" + weld_filtered_df['AssemblyID'].astype(str)\n",
    "\n",
    "# Save the cleaned dataset (optional)\n",
    "cleaned_weld_data_path = r\"G:\\College\\University of Montana\\Semester 4\\Capstone\\MSBA-Capstone-Riley-ORorke\\data\\Cleaned_WeldReclaim.csv\"\n",
    "weld_filtered_df.to_csv(cleaned_weld_data_path, index=False)\n",
    "\n",
    "# Display first few rows for verification\n",
    "print(weld_filtered_df.head())\n"
   ]
  },
  {
   "cell_type": "code",
   "execution_count": null,
   "metadata": {},
   "outputs": [
    {
     "data": {
      "text/plain": [
       "    AssemblyID CoolantConcentration  StationId\n",
       "1     D0113175                  3.5        204\n",
       "41    D0117941                  5.6        204\n",
       "66    D0126382                  5.6        204\n",
       "74    D0127643                  5.2        204\n",
       "104   D0155466                  5.5        204\n"
      ]
     },
     "metadata": {},
     "output_type": "display_data"
    }
   ],
   "source": [
    "# Coolant Dataset\n",
    "import pandas as pd\n",
    "\n",
    "# Define file path\n",
    "coolant_data_path = r\"G:\\College\\University of Montana\\Semester 4\\Capstone\\MSBA-Capstone-Riley-ORorke\\data\\Riley_O'Rorke_Coolant.csv\"\n",
    "\n",
    "# Load dataset\n",
    "coolant_df = pd.read_csv(coolant_data_path)\n",
    "\n",
    "# Filter dataset: Keep only rows where 'Name' is \"Record Coolant Concentration\"\n",
    "coolant_filtered_df = coolant_df[coolant_df['Name'] == \"Record Coolant Concentration\"]\n",
    "\n",
    "# Select only the relevant columns\n",
    "coolant_filtered_df = coolant_filtered_df[['AssemblyID', 'DataValue', 'StationId']]\n",
    "\n",
    "# Rename 'DataValue' to 'CoolantConcentration'\n",
    "coolant_filtered_df.rename(columns={'DataValue': 'CoolantConcentration'}, inplace=True)\n",
    "\n",
    "# Prepend \"D0\" to AssemblyID values\n",
    "coolant_filtered_df['AssemblyID'] = \"D0\" + coolant_filtered_df['AssemblyID'].astype(str)\n",
    "\n",
    "# Save the cleaned dataset (optional)\n",
    "cleaned_coolant_data_path = r\"G:\\College\\University of Montana\\Semester 4\\Capstone\\MSBA-Capstone-Riley-ORorke\\data\\Cleaned_Coolant.csv\"\n",
    "coolant_filtered_df.to_csv(cleaned_coolant_data_path, index=False)\n",
    "\n",
    "# Display first few rows for verification\n",
    "print(coolant_filtered_df.head())\n"
   ]
  },
  {
   "cell_type": "code",
   "execution_count": null,
   "metadata": {},
   "outputs": [
    {
     "data": {
      "text/plain": [
       "  AssemblyID    NamePostfix  ... CoolantConcentration WeldReclaim\n",
       "0   D0815479  Front Chassis  ...                  NaN         NaN\n",
       "1   D0815479  Front Chassis  ...                  NaN         NaN\n",
       "2   D0815479  Front Chassis  ...                  NaN         NaN\n",
       "3   D0815479  Front Chassis  ...                  NaN         NaN\n",
       "4   D0815479  Front Chassis  ...                  NaN         NaN\n",
       "\n",
       "[5 rows x 20 columns]\n"
      ]
     },
     "metadata": {},
     "output_type": "display_data"
    }
   ],
   "source": [
    "import pandas as pd\n",
    "\n",
    "# Define file paths\n",
    "bore_data_path = r\"G:\\College\\University of Montana\\Semester 4\\Capstone\\MSBA-Capstone-Riley-ORorke\\data\\Cleaned_BoreData.csv\"\n",
    "merged_tools_coolant_weld_path = r\"G:\\College\\University of Montana\\Semester 4\\Capstone\\MSBA-Capstone-Riley-ORorke\\data\\Merged_Tools_Coolant_Weld.csv\"\n",
    "\n",
    "# Load datasets\n",
    "bore_df = pd.read_csv(bore_data_path)\n",
    "merged_tools_coolant_weld_df = pd.read_csv(merged_tools_coolant_weld_path)\n",
    "\n",
    "# Rename 'AssemblyName' in Bore Data to match 'AssemblyID'\n",
    "bore_df = bore_df.rename(columns={'AssemblyName': 'AssemblyID'})\n",
    "\n",
    "# Merge Bore Data with the Tools + Coolant + Weld dataset on AssemblyID\n",
    "final_complete_df = bore_df.merge(merged_tools_coolant_weld_df, on='AssemblyID', how='left')\n",
    "\n",
    "# Save the fully merged dataset (optional)\n",
    "final_complete_path = r\"G:\\College\\University of Montana\\Semester 4\\Capstone\\MSBA-Capstone-Riley-ORorke\\data\\Final_Merged_Dataset.csv\"\n",
    "final_complete_df.to_csv(final_complete_path, index=False)\n",
    "\n",
    "# Display first few rows for verification\n",
    "print(final_complete_df.head())\n",
    "\n",
    "\n"
   ]
  }
 ],
 "metadata": {
  "language_info": {
   "name": "python"
  }
 },
 "nbformat": 4,
 "nbformat_minor": 2
}
