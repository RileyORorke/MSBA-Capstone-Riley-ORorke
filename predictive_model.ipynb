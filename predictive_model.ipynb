{
 "cells": [
  {
   "cell_type": "markdown",
   "metadata": {},
   "source": [
    "Failure Detection Feature Engineering"
   ]
  },
  {
   "cell_type": "code",
   "execution_count": null,
   "metadata": {},
   "outputs": [
    {
     "data": {
      "text/plain": [
       "Dataset with tool change & failure labels saved to: G:\\College\\University of Montana\\Semester 4\\Capstone\\MSBA-Capstone-Riley-ORorke\\data\\Final_Merged_Dataset_with_ToolChanges_and_Failures.csv\n",
       "       AssemblyID NamePostfix  ... Failure_WeldReclaim Failure_Label\n",
       "183705   D0678557    Doghouse  ...                   0             0\n",
       "183706   D0678557    Doghouse  ...                   0             0\n",
       "183707   D0678557    Doghouse  ...                   0             0\n",
       "183651   D0678556    Doghouse  ...                   0             0\n",
       "183652   D0678556    Doghouse  ...                   0             0\n",
       "183653   D0678556    Doghouse  ...                   0             0\n",
       "183571   D0678561    Doghouse  ...                   0             0\n",
       "183572   D0678561    Doghouse  ...                   0             0\n",
       "183573   D0678561    Doghouse  ...                   0             0\n",
       "164872   D0678738    Doghouse  ...                   0             0\n",
       "\n",
       "[10 rows x 27 columns]\n"
      ]
     },
     "metadata": {},
     "output_type": "display_data"
    }
   ],
   "source": [
    "import pandas as pd\n",
    "\n",
    "# Define file path\n",
    "file_path = r\"G:\\College\\University of Montana\\Semester 4\\Capstone\\MSBA-Capstone-Riley-ORorke\\data\\Final_Merged_Dataset.csv\"\n",
    "\n",
    "# Load dataset\n",
    "df = pd.read_csv(file_path)\n",
    "\n",
    "# Convert timestamp column to datetime for sorting\n",
    "df['ResultEntryTimestamp3'] = pd.to_datetime(df['ResultEntryTimestamp3'], errors='coerce')\n",
    "\n",
    "# Step 1: Compute Bore Size Change Per Station\n",
    "df = df.sort_values(by=['StationName', 'ResultEntryTimestamp3'])  # Sort for correct diff calculation\n",
    "df['BoreSizeChange'] = df.groupby('StationName')['ResultDataValue3'].diff().abs()  # Absolute difference\n",
    "\n",
    "# Step 2: Define a Fixed Tool Change Threshold (Adjustable)\n",
    "tool_change_threshold = 0.05  # Change in bore size that indicates a tool change\n",
    "\n",
    "# Step 3: Identify Tool Changes\n",
    "df['ToolChange'] = (df['BoreSizeChange'] > tool_change_threshold).astype(int)\n",
    "\n",
    "# Step 4: Calculate Time Since Last Tool Change Per Station\n",
    "df['TimeSinceLastChange'] = df.groupby('StationName')['ResultEntryTimestamp3'].diff().dt.total_seconds() / 3600  # Time in hours\n",
    "\n",
    "# Step 5: Identify Failures from Bore Size Changes (Threshold + Out of Tolerance)\n",
    "df['OutOfTolerance'] = ((df['ResultDataValue3'] < df['MinValue']) | \n",
    "                        (df['ResultDataValue3'] > df['MaxValue'])).astype(int)\n",
    "\n",
    "df['Failure_BoreSizeChange'] = ((df['BoreSizeChange'] > tool_change_threshold) & \n",
    "                                (df['OutOfTolerance'] == 1)).astype(int)\n",
    "\n",
    "# Step 6: Create a Failure Indicator from Weld Reclaim\n",
    "df['Failure_WeldReclaim'] = df['WeldReclaim'].notna().astype(int)  # 1 if WeldReclaim is not NaN\n",
    "\n",
    "# Step 7: Define Final Failure Label (If Bore Size Failure OR Weld Reclaim Failure)\n",
    "df['Failure_Label'] = ((df['Failure_BoreSizeChange'] == 1) | (df['Failure_WeldReclaim'] == 1)).astype(int)\n",
    "\n",
    "# Save the dataset with tool change & failure labels\n",
    "updated_file_path = r\"G:\\College\\University of Montana\\Semester 4\\Capstone\\MSBA-Capstone-Riley-ORorke\\data\\Final_Merged_Dataset_with_ToolChanges_and_Failures.csv\"\n",
    "df.to_csv(updated_file_path, index=False)\n",
    "\n",
    "# Display success message\n",
    "print(f\"Dataset with tool change & failure labels saved to: {updated_file_path}\")\n",
    "\n",
    "# Display first few rows for verification\n",
    "print(df.head(10))\n"
   ]
  }
 ],
 "metadata": {
  "language_info": {
   "name": "python"
  }
 },
 "nbformat": 4,
 "nbformat_minor": 2
}
