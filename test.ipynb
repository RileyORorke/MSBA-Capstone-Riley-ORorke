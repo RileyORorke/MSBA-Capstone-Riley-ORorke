{
 "cells": [
  {
   "cell_type": "code",
   "execution_count": 2,
   "metadata": {},
   "outputs": [
    {
     "name": "stdout",
     "output_type": "stream",
     "text": [
      "First 5 rows after preprocessing:\n",
      "   D.[AssemblyName]      C.[EntryTimestamp]  C.[DataValue]  C.[MinValue]  \\\n",
      "0          D0449376 2021-12-20 09:39:04.333          80.00        79.905   \n",
      "1          D0449434 2021-12-20 10:59:53.317          80.00        79.905   \n",
      "2          D0449393 2021-12-22 07:31:30.160          79.00        79.905   \n",
      "3          D0445093 2022-03-02 04:14:55.567          79.95        79.905   \n",
      "4          D0445057 2022-03-02 04:26:28.690          79.91        79.905   \n",
      "\n",
      "   C.[MaxValue]  \n",
      "0        80.025  \n",
      "1        80.025  \n",
      "2        80.025  \n",
      "3        80.025  \n",
      "4        80.025  \n",
      "\n",
      "Columns dropped: []\n",
      "Dataset shape after cleaning: (3265, 5)\n"
     ]
    }
   ],
   "source": [
    "import pandas as pd\n",
    "import numpy as np\n",
    "\n",
    "# Load the dataset\n",
    "file_path = r\"G:\\College\\University of Montana\\Semester 4\\Capstone\\MSBA-Capstone-Riley-ORorke\\data\\Riley_O'Rorke_Capstone_Data.xlsx\"\n",
    "df = pd.read_excel(file_path, header=0)  # Ensure headers are recognized\n",
    "\n",
    "# Define columns to drop\n",
    "columns_to_drop = [\n",
    "    \"D.[NamePostfix]\", \"F.[Name]\", \"G1.[ParameterID]\", \"G1.[Name]\", \"G1.[OperatorMessage]\", \n",
    "    \"G2.[ParameterID]\", \"G2.[Name]\", \"G2.[Description]\", \"G3.[ParameterID]\", \"G3.[Name]\", \n",
    "    \"G3.[OperatorMessage]\", \"A.[ParameterID]\", \"A.[EntryTimestamp]\", \"A.[DataValue]\", \n",
    "    \"A.[Description]\", \"B.[ParameterID]\", \"B.[EntryTimestamp]\", \"B.[DataValue]\", \n",
    "    \"B.[Description]\", \"C.[ParameterID]\"\n",
    "]\n",
    "\n",
    "# Drop specified columns only if they exist in the dataset\n",
    "df = df.drop(columns=[col for col in columns_to_drop if col in df.columns], errors='ignore')\n",
    "\n",
    "# Convert measurement values to numeric\n",
    "measurement_column = 'C.[DataValue]'\n",
    "df[measurement_column] = pd.to_numeric(df[measurement_column], errors='coerce')\n",
    "\n",
    "# Convert timestamps to proper datetime format and ensure they remain datetime objects\n",
    "timestamp_column = 'C.[EntryTimestamp]'\n",
    "df[timestamp_column] = pd.to_datetime(df[timestamp_column], errors='coerce')\n",
    "df = df.dropna(subset=[timestamp_column])  # Drop rows with invalid timestamps\n",
    "\n",
    "# Sort data in chronological order\n",
    "df = df.sort_values(by=timestamp_column, ascending=True).reset_index(drop=True)\n",
    "\n",
    "# Drop missing values in measurement column (optional, based on data handling preference)\n",
    "df = df.dropna(subset=[measurement_column])\n",
    "\n",
    "# Save cleaned dataset for further analysis\n",
    "output_path = r\"G:\\College\\University of Montana\\Semester 4\\Capstone\\MSBA-Capstone-Riley-ORorke\\data\\cleaned_data.xlsx\"\n",
    "df.to_excel(output_path, index=False, engine='openpyxl')\n",
    "\n",
    "# Display results\n",
    "print(\"First 5 rows after preprocessing:\")\n",
    "print(df.head())\n",
    "\n",
    "# Summary of cleaning\n",
    "dropped_columns = [col for col in columns_to_drop if col in df.columns]\n",
    "print(\"\\nColumns dropped:\", dropped_columns)\n",
    "print(\"Dataset shape after cleaning:\", df.shape)\n"
   ]
  }
 ],
 "metadata": {
  "kernelspec": {
   "display_name": "Python 3",
   "language": "python",
   "name": "python3"
  },
  "language_info": {
   "codemirror_mode": {
    "name": "ipython",
    "version": 3
   },
   "file_extension": ".py",
   "mimetype": "text/x-python",
   "name": "python",
   "nbconvert_exporter": "python",
   "pygments_lexer": "ipython3",
   "version": "3.12.9"
  }
 },
 "nbformat": 4,
 "nbformat_minor": 2
}
